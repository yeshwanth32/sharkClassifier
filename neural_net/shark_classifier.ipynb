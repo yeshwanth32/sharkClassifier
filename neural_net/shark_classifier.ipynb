{
 "cells": [
  {
   "cell_type": "code",
   "execution_count": 1,
   "metadata": {},
   "outputs": [],
   "source": [
    "import pandas as pd\n",
    "import tensorflow as tf\n",
    "from tensorflow.keras import layers, models\n",
    "import numpy as np\n",
    "import matplotlib.pyplot as plt #use to display image\n",
    "import os\n",
    "import cv2 # to do image operations"
   ]
  },
  {
   "cell_type": "code",
   "execution_count": 2,
   "metadata": {},
   "outputs": [],
   "source": [
    "DATADIR = 'sharks'\n",
    "CATEGORIES = [\n",
    "              'basking', \n",
    "              'blacktip', \n",
    "              'blue', \n",
    "              'bull', \n",
    "              'hammerhead', \n",
    "              'lemon', \n",
    "              'mako',\n",
    "              'nurse',\n",
    "              'sand tiger',\n",
    "              'thresher',\n",
    "              'tiger',\n",
    "              'whale',\n",
    "              'white',\n",
    "              'whitetip' \n",
    "]"
   ]
  },
  {
   "cell_type": "code",
   "execution_count": 3,
   "metadata": {},
   "outputs": [],
   "source": [
    "IMG_SIZE = 50"
   ]
  },
  {
   "cell_type": "code",
   "execution_count": 4,
   "metadata": {},
   "outputs": [],
   "source": [
    "training_data = []\n",
    "\n",
    "def create_training_data():\n",
    "  for category in CATEGORIES:\n",
    "    path = os.path.join(DATADIR, category) # enter shark species dir\n",
    "    class_num = CATEGORIES.index(category)\n",
    "    # loop through images in dir\n",
    "    for img in os.listdir(path):\n",
    "      try:\n",
    "        # convert image to array\n",
    "        img_array = cv2.imread(os.path.join(path, img)) #exact path of the image\n",
    "        new_array = cv2.resize(img_array, (IMG_SIZE, IMG_SIZE))\n",
    "        training_data.append([new_array, class_num])\n",
    "      except Exception as e:\n",
    "        pass\n",
    "\n",
    "create_training_data()"
   ]
  },
  {
   "cell_type": "code",
   "execution_count": 9,
   "metadata": {},
   "outputs": [
    {
     "data": {
      "text/plain": [
       "1546"
      ]
     },
     "execution_count": 9,
     "metadata": {},
     "output_type": "execute_result"
    }
   ],
   "source": [
    "len(training_data)"
   ]
  },
  {
   "cell_type": "code",
   "execution_count": 10,
   "metadata": {},
   "outputs": [],
   "source": [
    "import random\n",
    "random.shuffle(training_data)"
   ]
  },
  {
   "cell_type": "code",
   "execution_count": 11,
   "metadata": {},
   "outputs": [],
   "source": [
    "X = [] # 2D array, [[feature, label]]\n",
    "y = []"
   ]
  },
  {
   "cell_type": "code",
   "execution_count": 12,
   "metadata": {},
   "outputs": [],
   "source": [
    "for features, label in training_data:\n",
    "  X.append(features)\n",
    "  y.append(label)\n",
    "\n",
    "# we need to convert into numpy array for it to work with tf\n",
    "X = np.array(X)\n",
    "y = np.array(y)\n"
   ]
  },
  {
   "cell_type": "code",
   "execution_count": 13,
   "metadata": {},
   "outputs": [
    {
     "data": {
      "text/plain": [
       "(1546, 50, 50, 3)"
      ]
     },
     "execution_count": 13,
     "metadata": {},
     "output_type": "execute_result"
    }
   ],
   "source": [
    "X.shape"
   ]
  },
  {
   "cell_type": "code",
   "execution_count": 14,
   "metadata": {},
   "outputs": [],
   "source": [
    "import pickle\n",
    "# save our training data to pickle file\n",
    "\n",
    "pickle_out = open('X.pickle', 'wb')\n",
    "pickle.dump(X, pickle_out)\n",
    "pickle_out.close()\n",
    "\n",
    "pickle_out = open('y.pickle', 'wb')\n",
    "pickle.dump(y, pickle_out)\n",
    "pickle_out.close()"
   ]
  },
  {
   "cell_type": "code",
   "execution_count": 15,
   "metadata": {},
   "outputs": [
    {
     "data": {
      "text/plain": [
       "<matplotlib.image.AxesImage at 0x21102c2ac40>"
      ]
     },
     "execution_count": 15,
     "metadata": {},
     "output_type": "execute_result"
    },
    {
     "data": {
      "image/png": "[encoded data removed]",
      "text/plain": [
       "<Figure size 432x288 with 1 Axes>"
      ]
     },
     "metadata": {
      "needs_background": "light"
     },
     "output_type": "display_data"
    }
   ],
   "source": [
    "plt.imshow(X[0])"
   ]
  },
  {
   "cell_type": "code",
   "execution_count": 16,
   "metadata": {},
   "outputs": [
    {
     "data": {
      "text/plain": [
       "6"
      ]
     },
     "execution_count": 16,
     "metadata": {},
     "output_type": "execute_result"
    }
   ],
   "source": [
    "y[0]"
   ]
  },
  {
   "cell_type": "code",
   "execution_count": 17,
   "metadata": {},
   "outputs": [],
   "source": [
    "# normalize data\n",
    "\n",
    "X = X / 255.0"
   ]
  },
  {
   "cell_type": "code",
   "execution_count": 18,
   "metadata": {},
   "outputs": [],
   "source": [
    "from sklearn.model_selection import train_test_split\n",
    "\n",
    "X_train, X_test, y_train, y_test = train_test_split(X,  y, test_size=0.2, shuffle=True)"
   ]
  },
  {
   "cell_type": "code",
   "execution_count": 19,
   "metadata": {},
   "outputs": [],
   "source": [
    "from tensorflow.keras.models import Sequential\n",
    "from tensorflow.keras.layers import Dense, Dropout, Activation, Flatten, Conv2D, MaxPooling2D"
   ]
  },
  {
   "cell_type": "code",
   "execution_count": 20,
   "metadata": {},
   "outputs": [
    {
     "name": "stdout",
     "output_type": "stream",
     "text": [
      "Epoch 1/10\n",
      "78/78 [==============================] - 2s 19ms/step - loss: 2.5884 - accuracy: 0.1108\n",
      "Epoch 2/10\n",
      "78/78 [==============================] - 2s 19ms/step - loss: 2.4078 - accuracy: 0.1837\n",
      "Epoch 3/10\n",
      "78/78 [==============================] - 2s 30ms/step - loss: 2.2439 - accuracy: 0.2549\n",
      "Epoch 4/10\n",
      "78/78 [==============================] - 3s 37ms/step - loss: 2.1262 - accuracy: 0.3099\n",
      "Epoch 5/10\n",
      "78/78 [==============================] - 3s 35ms/step - loss: 1.9306 - accuracy: 0.3633\n",
      "Epoch 6/10\n",
      "78/78 [==============================] - 3s 35ms/step - loss: 1.7946 - accuracy: 0.3908\n",
      "Epoch 7/10\n",
      "78/78 [==============================] - 3s 37ms/step - loss: 1.6145 - accuracy: 0.4830\n",
      "Epoch 8/10\n",
      "78/78 [==============================] - 3s 36ms/step - loss: 1.4302 - accuracy: 0.5429\n",
      "Epoch 9/10\n",
      "78/78 [==============================] - 3s 35ms/step - loss: 1.2675 - accuracy: 0.5882\n",
      "Epoch 10/10\n",
      "78/78 [==============================] - 3s 35ms/step - loss: 1.0884 - accuracy: 0.6586\n"
     ]
    },
    {
     "data": {
      "text/plain": [
       "<keras.callbacks.History at 0x2110235c6a0>"
      ]
     },
     "execution_count": 20,
     "metadata": {},
     "output_type": "execute_result"
    }
   ],
   "source": [
    "model = Sequential()\n",
    "model.add(Conv2D(filters=32, kernel_size=(3,3), activation='relu', input_shape=(IMG_SIZE,IMG_SIZE,3)))\n",
    "model.add(MaxPooling2D((2,2)))\n",
    "\n",
    "model.add(Conv2D(filters=64, kernel_size=(3,3), activation='relu'))\n",
    "model.add(MaxPooling2D((2,2)))\n",
    "\n",
    "model.add(Flatten())\n",
    "model.add(Dense(64, activation='relu'))\n",
    "model.add(Dense(14, activation='softmax'))\n",
    "\n",
    "model.compile(optimizer='adam',\n",
    "             loss='sparse_categorical_crossentropy',\n",
    "             metrics=['accuracy']\n",
    "             )\n",
    "model.fit(X_train, y_train, epochs=10, batch_size=16)"
   ]
  },
  {
   "cell_type": "code",
   "execution_count": 21,
   "metadata": {},
   "outputs": [
    {
     "name": "stdout",
     "output_type": "stream",
     "text": [
      "10/10 [==============================] - 0s 15ms/step - loss: 2.4360 - accuracy: 0.3161\n"
     ]
    },
    {
     "data": {
      "text/plain": [
       "[2.4359588623046875, 0.31612902879714966]"
      ]
     },
     "execution_count": 21,
     "metadata": {},
     "output_type": "execute_result"
    }
   ],
   "source": [
    "model.evaluate(X_test, y_test)"
   ]
  },
  {
   "cell_type": "code",
   "execution_count": 22,
   "metadata": {},
   "outputs": [
    {
     "name": "stdout",
     "output_type": "stream",
     "text": [
      "Epoch 1/5\n",
      "39/39 [==============================] - 39s 976ms/step - loss: 2.6139 - accuracy: 0.2217\n",
      "Epoch 2/5\n",
      "39/39 [==============================] - 39s 988ms/step - loss: 1.0912 - accuracy: 0.7095\n",
      "Epoch 3/5\n",
      "39/39 [==============================] - 38s 980ms/step - loss: 0.3967 - accuracy: 0.9482\n",
      "Epoch 4/5\n",
      "39/39 [==============================] - 36s 924ms/step - loss: 0.1225 - accuracy: 0.9976\n",
      "Epoch 5/5\n",
      "39/39 [==============================] - 36s 923ms/step - loss: 0.0550 - accuracy: 1.0000\n"
     ]
    },
    {
     "data": {
      "text/plain": [
       "<keras.callbacks.History at 0x2110279c790>"
      ]
     },
     "execution_count": 22,
     "metadata": {},
     "output_type": "execute_result"
    }
   ],
   "source": [
    "# Keras imports (from Tensorflow) - we are using Tensorflow's implementation of Keras\n",
    "import tensorflow.keras.backend as K\n",
    "from tensorflow.keras.layers import (Input, Conv2D, MaxPooling2D, Flatten, \n",
    "                                     Dense, Dropout, BatchNormalization)\n",
    "from tensorflow.keras.models import Sequential\n",
    "from tensorflow.keras.optimizers import Adam\n",
    "from tensorflow.keras import regularizers\n",
    "\n",
    "IMAGE_HEIGHT, IMAGE_WIDTH, NUM_CHANNELS, NUM_CLASSES = 50, 50, 3, 14\n",
    "\n",
    "\"\"\"\n",
    "builds the base Keras model, without any regularization\n",
    "\"\"\"\n",
    "K.clear_session()\n",
    "    \n",
    "model = Sequential([\n",
    "        Conv2D(64, kernel_size=(3, 3), activation='relu', padding='same', \n",
    "               input_shape=(IMAGE_HEIGHT, IMAGE_WIDTH, NUM_CHANNELS)),\n",
    "        BatchNormalization(),\n",
    "        Conv2D(64, kernel_size=(3, 3), activation='relu'),\n",
    "        BatchNormalization(),\n",
    "        MaxPooling2D(pool_size=(2, 2)),\n",
    "\n",
    "        Conv2D(128, kernel_size=(3, 3), activation='relu', padding='same'),\n",
    "        BatchNormalization(),\n",
    "        Conv2D(128, kernel_size=(3, 3), activation='relu'),\n",
    "        BatchNormalization(),        \n",
    "        MaxPooling2D(pool_size=(2, 2)),\n",
    "        \n",
    "        Conv2D(256, kernel_size=(3, 3), activation='relu', padding='same'),\n",
    "        BatchNormalization(),\n",
    "        Conv2D(256, kernel_size=(3, 3), activation='relu'),\n",
    "        BatchNormalization(),    \n",
    "        MaxPooling2D(pool_size=(2, 2)),   \n",
    "        \n",
    "        Flatten(),\n",
    "        \n",
    "        Dense(1024, activation='relu'),\n",
    "        \n",
    "        Dense(512, activation='relu'),\n",
    "        \n",
    "        Dense(NUM_CLASSES, activation='softmax')\n",
    "    ])\n",
    "    \n",
    "adam = Adam(learning_rate=0.0001, decay=1e-6)\n",
    "model.compile(optimizer=adam,\n",
    "                loss='sparse_categorical_crossentropy',\n",
    "                metrics=['accuracy'])\n",
    "\n",
    "model.fit(X_train, y_train, epochs=5, batch_size=32)\n"
   ]
  },
  {
   "cell_type": "code",
   "execution_count": 23,
   "metadata": {},
   "outputs": [
    {
     "name": "stdout",
     "output_type": "stream",
     "text": [
      "10/10 [==============================] - 3s 236ms/step - loss: 2.7646 - accuracy: 0.1226\n"
     ]
    },
    {
     "data": {
      "text/plain": [
       "[2.7645552158355713, 0.1225806474685669]"
      ]
     },
     "execution_count": 23,
     "metadata": {},
     "output_type": "execute_result"
    }
   ],
   "source": [
    "model.evaluate(X_test, y_test)"
   ]
  },
  {
   "cell_type": "code",
   "execution_count": null,
   "metadata": {},
   "outputs": [],
   "source": []
  },
  {
   "cell_type": "code",
   "execution_count": null,
   "metadata": {},
   "outputs": [],
   "source": []
  }
 ],
 "metadata": {
  "kernelspec": {
   "display_name": "Python 3",
   "language": "python",
   "name": "python3"
  },
  "language_info": {
   "codemirror_mode": {
    "name": "ipython",
    "version": 3
   },
   "file_extension": ".py",
   "mimetype": "text/x-python",
   "name": "python",
   "nbconvert_exporter": "python",
   "pygments_lexer": "ipython3",
   "version": "3.8.8"
  }
 },
 "nbformat": 4,
 "nbformat_minor": 4
}
